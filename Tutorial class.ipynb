{
 "cells": [
  {
   "cell_type": "code",
   "execution_count": 3,
   "id": "46c64071-8354-41a9-ab4f-f85bb0b74e36",
   "metadata": {},
   "outputs": [
    {
     "name": "stdout",
     "output_type": "stream",
     "text": [
      "Total amount: 40.0\n",
      "Total amount after discount: 36.0\n",
      "Checkout successful!\n"
     ]
    }
   ],
   "source": [
    "class Product:\n",
    "    def __init__(self, name, price, stock):\n",
    "        self.name = name\n",
    "        self.price = price\n",
    "        self.stock = stock\n",
    "\n",
    "    def update_stock(self, quantity):\n",
    "        self.stock -= quantity\n",
    "        if self.stock < 0:\n",
    "            raise ValueError(\"Insufficient stock\")\n",
    "\n",
    "class ShoppingCart:\n",
    "    def __init__(self):\n",
    "        self.shopping_items = []\n",
    "        self.total_amount = 0\n",
    "\n",
    "    def add_to_cart(self, product, quantity):\n",
    "        if quantity > product.stock:\n",
    "            raise ValueError(\"Insufficient stock\")\n",
    "        product.update_stock(quantity)\n",
    "        self.shopping_items.append((product, quantity))\n",
    "        self.total_amount += product.price * quantity\n",
    "\n",
    "    def remove_from_cart(self, product, quantity):\n",
    "        for i, (item, item_quantity) in enumerate(self.shopping_items):\n",
    "            if item == product:\n",
    "                if item_quantity > quantity:\n",
    "                    item_quantity -= quantity\n",
    "                else:\n",
    "                    del self.shopping_items[i]\n",
    "                product.update_stock(quantity)\n",
    "                self.total_amount -= product.price * quantity\n",
    "                break\n",
    "        else:\n",
    "            raise ValueError(\"Product not found in cart\")\n",
    "\n",
    "    def calculate_total(self):\n",
    "        return self.total_amount\n",
    "\n",
    "    def apply_discount(self, discount_percentage):\n",
    "        if discount_percentage < 0 or discount_percentage > 100:\n",
    "            raise ValueError(\"Invalid discount percentage\")\n",
    "        self.total_amount *= (100 - discount_percentage) / 100\n",
    "\n",
    "    def checkout(self):\n",
    "        # Implement checkout logic here, e.g., payment processing, order confirmation\n",
    "        print(\"Checkout successful!\")\n",
    "\n",
    "# Example usage\n",
    "product1 = Product(\"Product A\", 10.0, 5)\n",
    "product2 = Product(\"Product B\", 20.0, 3)\n",
    "\n",
    "cart = ShoppingCart()\n",
    "cart.add_to_cart(product1, 2)\n",
    "cart.add_to_cart(product2, 1)\n",
    "\n",
    "print(\"Total amount:\", cart.calculate_total())\n",
    "\n",
    "cart.apply_discount(10)  # Apply 10% discount\n",
    "print(\"Total amount after discount:\", cart.calculate_total())\n",
    "\n",
    "cart.checkout()\n"
   ]
  },
  {
   "cell_type": "code",
   "execution_count": null,
   "id": "e03e4a9e-4570-476d-916a-8022ac8b1776",
   "metadata": {},
   "outputs": [],
   "source": []
  },
  {
   "cell_type": "code",
   "execution_count": null,
   "id": "b12f7657-250e-4a99-a1f9-9f79106a7853",
   "metadata": {},
   "outputs": [],
   "source": []
  }
 ],
 "metadata": {
  "kernelspec": {
   "display_name": "Python 3 (ipykernel)",
   "language": "python",
   "name": "python3"
  },
  "language_info": {
   "codemirror_mode": {
    "name": "ipython",
    "version": 3
   },
   "file_extension": ".py",
   "mimetype": "text/x-python",
   "name": "python",
   "nbconvert_exporter": "python",
   "pygments_lexer": "ipython3",
   "version": "3.12.4"
  }
 },
 "nbformat": 4,
 "nbformat_minor": 5
}
