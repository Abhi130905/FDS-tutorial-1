{
 "cells": [
  {
   "cell_type": "code",
   "execution_count": 1,
   "id": "2c8c42e9-5261-4f5d-bada-c8b888301f02",
   "metadata": {},
   "outputs": [
    {
     "name": "stdout",
     "output_type": "stream",
     "text": [
      "[1 2 3 4 5 6]\n"
     ]
    }
   ],
   "source": [
    "import numpy as np\n",
    "arr1 = np.array([1,2,3])\n",
    "arr2 = np.array([4,5,6])\n",
    "arr = np.hstack((arr1,arr2))\n",
    "print(arr)"
   ]
  },
  {
   "cell_type": "code",
   "execution_count": 3,
   "id": "c56a0168-a365-4a37-afce-e1c49a79cb80",
   "metadata": {},
   "outputs": [
    {
     "name": "stdout",
     "output_type": "stream",
     "text": [
      "[[1 4]\n",
      " [2 5]\n",
      " [3 6]]\n"
     ]
    }
   ],
   "source": [
    "import numpy as np\n",
    "arr1 = np.array([1,2,3])\n",
    "arr2 = np.array([4,5,6])\n",
    "arr = np.stack((arr1,arr2),axis=1)\n",
    "print(arr)"
   ]
  },
  {
   "cell_type": "code",
   "execution_count": 7,
   "id": "58d00366-7dc8-4a19-84c8-2864cf517539",
   "metadata": {},
   "outputs": [
    {
     "name": "stdout",
     "output_type": "stream",
     "text": [
      "[array([1]), array([2]), array([3]), array([4]), array([5]), array([6]), array([], dtype=int32), array([], dtype=int32), array([], dtype=int32), array([], dtype=int32), array([], dtype=int32), array([], dtype=int32), array([], dtype=int32), array([], dtype=int32), array([], dtype=int32), array([], dtype=int32), array([], dtype=int32), array([], dtype=int32), array([], dtype=int32), array([], dtype=int32), array([], dtype=int32), array([], dtype=int32), array([], dtype=int32), array([], dtype=int32), array([], dtype=int32), array([], dtype=int32), array([], dtype=int32), array([], dtype=int32), array([], dtype=int32), array([], dtype=int32), array([], dtype=int32), array([], dtype=int32), array([], dtype=int32), array([], dtype=int32), array([], dtype=int32), array([], dtype=int32), array([], dtype=int32), array([], dtype=int32), array([], dtype=int32), array([], dtype=int32), array([], dtype=int32), array([], dtype=int32), array([], dtype=int32), array([], dtype=int32), array([], dtype=int32), array([], dtype=int32), array([], dtype=int32), array([], dtype=int32), array([], dtype=int32), array([], dtype=int32)]\n"
     ]
    }
   ],
   "source": [
    "import numpy as np\n",
    "arr = np.array([1,2,3,4,5,6])\n",
    "newarr=np.array_split(arr,50)\n",
    "print(newarr)"
   ]
  },
  {
   "cell_type": "code",
   "execution_count": 9,
   "id": "dede4807-dc30-4d12-be34-364781eba531",
   "metadata": {},
   "outputs": [
    {
     "name": "stdout",
     "output_type": "stream",
     "text": [
      "[array([1, 2]), array([3, 4]), array([5, 6])]\n"
     ]
    }
   ],
   "source": [
    "import numpy as np\n",
    "arr = np.array([1,2,3,4,5,6])\n",
    "newarr=np.array_split(arr,3)\n",
    "print(newarr)"
   ]
  },
  {
   "cell_type": "code",
   "execution_count": 11,
   "id": "be110a33-af68-4cb6-9f41-e2974d797f50",
   "metadata": {},
   "outputs": [
    {
     "name": "stdout",
     "output_type": "stream",
     "text": [
      "[array([[1, 2, 3, 4, 5, 6]]), array([[6, 5, 4, 3, 2, 1]]), array([], shape=(0, 6), dtype=int32), array([], shape=(0, 6), dtype=int32), array([], shape=(0, 6), dtype=int32), array([], shape=(0, 6), dtype=int32), array([], shape=(0, 6), dtype=int32), array([], shape=(0, 6), dtype=int32), array([], shape=(0, 6), dtype=int32), array([], shape=(0, 6), dtype=int32), array([], shape=(0, 6), dtype=int32), array([], shape=(0, 6), dtype=int32), array([], shape=(0, 6), dtype=int32), array([], shape=(0, 6), dtype=int32), array([], shape=(0, 6), dtype=int32), array([], shape=(0, 6), dtype=int32), array([], shape=(0, 6), dtype=int32), array([], shape=(0, 6), dtype=int32), array([], shape=(0, 6), dtype=int32), array([], shape=(0, 6), dtype=int32), array([], shape=(0, 6), dtype=int32), array([], shape=(0, 6), dtype=int32), array([], shape=(0, 6), dtype=int32), array([], shape=(0, 6), dtype=int32), array([], shape=(0, 6), dtype=int32), array([], shape=(0, 6), dtype=int32), array([], shape=(0, 6), dtype=int32), array([], shape=(0, 6), dtype=int32), array([], shape=(0, 6), dtype=int32), array([], shape=(0, 6), dtype=int32), array([], shape=(0, 6), dtype=int32), array([], shape=(0, 6), dtype=int32), array([], shape=(0, 6), dtype=int32), array([], shape=(0, 6), dtype=int32), array([], shape=(0, 6), dtype=int32), array([], shape=(0, 6), dtype=int32), array([], shape=(0, 6), dtype=int32), array([], shape=(0, 6), dtype=int32), array([], shape=(0, 6), dtype=int32), array([], shape=(0, 6), dtype=int32), array([], shape=(0, 6), dtype=int32), array([], shape=(0, 6), dtype=int32), array([], shape=(0, 6), dtype=int32), array([], shape=(0, 6), dtype=int32), array([], shape=(0, 6), dtype=int32), array([], shape=(0, 6), dtype=int32), array([], shape=(0, 6), dtype=int32), array([], shape=(0, 6), dtype=int32), array([], shape=(0, 6), dtype=int32), array([], shape=(0, 6), dtype=int32)]\n"
     ]
    }
   ],
   "source": [
    "import numpy as np\n",
    "arr = np.array([[1,2,3,4,5,6],[6,5,4,3,2,1]])\n",
    "newarr=np.array_split(arr,50)\n",
    "print(newarr)"
   ]
  },
  {
   "cell_type": "code",
   "execution_count": 13,
   "id": "0815ec30-c929-4610-a9bb-f59c152a4910",
   "metadata": {},
   "outputs": [
    {
     "name": "stdout",
     "output_type": "stream",
     "text": [
      "[array([[1, 2, 3, 4, 5, 6]]), array([[6, 5, 4, 3, 2, 1]]), array([], shape=(0, 6), dtype=int32)]\n"
     ]
    }
   ],
   "source": [
    "import numpy as np\n",
    "arr = np.array([[1,2,3,4,5,6],[6,5,4,3,2,1]])\n",
    "newarr=np.array_split(arr,3)\n",
    "print(newarr)"
   ]
  },
  {
   "cell_type": "code",
   "execution_count": 23,
   "id": "52c562f7-a10a-48b0-8b8e-0207f9cd0a3f",
   "metadata": {},
   "outputs": [
    {
     "name": "stdout",
     "output_type": "stream",
     "text": [
      "[array([[1],\n",
      "       [4],\n",
      "       [6],\n",
      "       [3]]), array([[2],\n",
      "       [5],\n",
      "       [5],\n",
      "       [2]]), array([[3],\n",
      "       [6],\n",
      "       [4],\n",
      "       [1]])]\n"
     ]
    }
   ],
   "source": [
    "import numpy as np\n",
    "arr = np.array([[1,2,3],[4,5,6],[6,5,4],[3,2,1]])\n",
    "newarr=np.hsplit(arr,3)\n",
    "print(newarr)"
   ]
  },
  {
   "cell_type": "code",
   "execution_count": 29,
   "id": "dadddb26-5143-4b99-94f2-98763722ff9a",
   "metadata": {},
   "outputs": [
    {
     "name": "stdout",
     "output_type": "stream",
     "text": [
      "(array([3], dtype=int64),)\n"
     ]
    }
   ],
   "source": [
    "import numpy as np\n",
    "arr = np.array([1,2,3,4,5,4.4])\n",
    "x = np.where(arr==4)\n",
    "print(x)"
   ]
  },
  {
   "cell_type": "code",
   "execution_count": 1,
   "id": "36817669-3eaf-41fc-bd41-714e48da4dc1",
   "metadata": {},
   "outputs": [
    {
     "name": "stdout",
     "output_type": "stream",
     "text": [
      "[array([[6],\n",
      "       [4],\n",
      "       [2]]), array([[ 1],\n",
      "       [-2],\n",
      "       [ 8]]), array([[1],\n",
      "       [5],\n",
      "       [7]])]\n"
     ]
    }
   ],
   "source": [
    "import numpy as np\n",
    "arr = np.array([[6,1,1],[4,-2,5],[2,8,7]])\n",
    "\n",
    "newarr=np.hsplit(arr,3)\n",
    "print(newarr)"
   ]
  },
  {
   "cell_type": "code",
   "execution_count": 3,
   "id": "2135db5d-97c3-4d52-a0a5-5692ab7391bd",
   "metadata": {},
   "outputs": [
    {
     "name": "stdout",
     "output_type": "stream",
     "text": [
      "Rank of A: 3\n",
      "\n",
      "Trace of A: 11\n",
      "\n",
      "Determinant of A: -306.0\n",
      "\n",
      "Inverse of A:\n",
      " [[ 0.17647059 -0.00326797 -0.02287582]\n",
      " [ 0.05882353 -0.13071895  0.08496732]\n",
      " [-0.11764706  0.1503268   0.05228758]]\n",
      "\n",
      "Matrix A raised to power 3:\n",
      " [[336 162 228]\n",
      " [406 162 469]\n",
      " [698 702 905]]\n"
     ]
    }
   ],
   "source": [
    "import numpy as np\n",
    "\n",
    "A = np.array([[6, 1, 1],\n",
    "\n",
    "[4, -2, 5],\n",
    "\n",
    "[2, 8, 7]])\n",
    "\n",
    "print(\"Rank of A:\", np.linalg.matrix_rank(A))\n",
    "\n",
    "print(\"\\nTrace of A:\", np.trace(A))\n",
    "\n",
    "print(\"\\nDeterminant of A:\", np.linalg.det(A))\n",
    "\n",
    "print(\"\\nInverse of A:\\n\", np.linalg.inv(A))\n",
    "\n",
    "print(\"\\nMatrix A raised to power 3:\\n\",\n",
    "\n",
    "np.linalg.matrix_power(A, 3))"
   ]
  },
  {
   "cell_type": "code",
   "execution_count": null,
   "id": "225e98c7-776d-4f0f-9d6e-57baa51c3e0c",
   "metadata": {},
   "outputs": [],
   "source": []
  }
 ],
 "metadata": {
  "kernelspec": {
   "display_name": "Python 3 (ipykernel)",
   "language": "python",
   "name": "python3"
  },
  "language_info": {
   "codemirror_mode": {
    "name": "ipython",
    "version": 3
   },
   "file_extension": ".py",
   "mimetype": "text/x-python",
   "name": "python",
   "nbconvert_exporter": "python",
   "pygments_lexer": "ipython3",
   "version": "3.12.4"
  }
 },
 "nbformat": 4,
 "nbformat_minor": 5
}
