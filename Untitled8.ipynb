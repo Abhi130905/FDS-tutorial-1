{
 "cells": [
  {
   "cell_type": "code",
   "execution_count": 1,
   "id": "3ec8ac39-b0b4-4081-bfed-739f17dc4f4e",
   "metadata": {},
   "outputs": [
    {
     "name": "stdout",
     "output_type": "stream",
     "text": [
      "x1: [1 3 0 7]\n",
      "x2: [2 0 1 1]\n",
      "x3: [0 1 3 1]\n",
      "x4: [3 4 4 9]\n"
     ]
    }
   ],
   "source": [
    "import numpy as np\n",
    "x1 = np.array([1, 3, 0, 7])\n",
    "x2 = np.array([2, 0, 1, 1])\n",
    "x3 = np.array([0, 1, 3, 1])\n",
    "x4 = x1+x2+x3\n",
    "\n",
    "print(\"x1:\", x1)\n",
    "print(\"x2:\", x2)\n",
    "print(\"x3:\", x3)\n",
    "print(\"x4:\", x4)"
   ]
  },
  {
   "cell_type": "code",
   "execution_count": 3,
   "id": "232df32c-aa83-4be7-b357-e06914ae31f5",
   "metadata": {},
   "outputs": [
    {
     "name": "stdout",
     "output_type": "stream",
     "text": [
      "(2, 4)\n",
      "(2, 2, 2)\n"
     ]
    }
   ],
   "source": [
    "import numpy as np\n",
    "arr1 = np.array([[1, 3, 5, 7], [2, 4, 6, 8]]) \n",
    "arr2 = np.array([[[1, 2], [3, 4]], [[5, 6], [7, 8]]]) \n",
    "print(arr1.shape)\n",
    "print(arr2.shape)"
   ]
  },
  {
   "cell_type": "code",
   "execution_count": 5,
   "id": "df0789b0-4635-4b81-8e77-22008034a4e6",
   "metadata": {},
   "outputs": [
    {
     "name": "stdout",
     "output_type": "stream",
     "text": [
      "1\n"
     ]
    }
   ],
   "source": [
    "import numpy as np \n",
    "arr = np.array([1, 2, 3, 4])   \n",
    "abhi = arr.ndim \n",
    "print (abhi)"
   ]
  },
  {
   "cell_type": "code",
   "execution_count": 7,
   "id": "a49f4058-3229-497c-b4d9-63ee4d8ffca0",
   "metadata": {},
   "outputs": [
    {
     "name": "stdout",
     "output_type": "stream",
     "text": [
      "[[1 4]\n",
      " [2 5]\n",
      " [3 6]]\n"
     ]
    }
   ],
   "source": [
    "import numpy as np \n",
    "arr = np.array([[1, 2, 3], [4, 5, 6]])\t \n",
    "transposed_array = arr.T \n",
    "print(transposed_array)"
   ]
  },
  {
   "cell_type": "code",
   "execution_count": 9,
   "id": "05c6a734-f76f-4783-852f-ea10757e8de0",
   "metadata": {},
   "outputs": [
    {
     "name": "stdout",
     "output_type": "stream",
     "text": [
      "[ True  True  True  True False False]\n"
     ]
    }
   ],
   "source": [
    "import numpy as np\n",
    "abc = np.array([1, 2, 3, 4, 5, 6])\n",
    "print(abc.__le__(4))"
   ]
  },
  {
   "cell_type": "code",
   "execution_count": null,
   "id": "cb243bd1-92bd-4e79-8908-b9907cfa0e85",
   "metadata": {},
   "outputs": [],
   "source": []
  }
 ],
 "metadata": {
  "kernelspec": {
   "display_name": "Python 3 (ipykernel)",
   "language": "python",
   "name": "python3"
  },
  "language_info": {
   "codemirror_mode": {
    "name": "ipython",
    "version": 3
   },
   "file_extension": ".py",
   "mimetype": "text/x-python",
   "name": "python",
   "nbconvert_exporter": "python",
   "pygments_lexer": "ipython3",
   "version": "3.12.4"
  }
 },
 "nbformat": 4,
 "nbformat_minor": 5
}
